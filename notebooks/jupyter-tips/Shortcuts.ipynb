{
 "cells": [
  {
   "cell_type": "markdown",
   "id": "93e8ac67-ef48-4f85-9986-e4d310ad4b71",
   "metadata": {},
   "source": [
    "# Jupyter Shortcuts\n"
   ]
  },
  {
   "cell_type": "markdown",
   "id": "477b372f-68ad-4883-947a-9fbca670ec96",
   "metadata": {},
   "source": [
    "Action | Mode | Keyboard shorcut\n",
    "---|---|---\n",
    "==MODES== | |\n",
    "Enter **Edit Mode** | Command mode | <kbd>Enter</kbd>\n",
    "Enter **Command Mode** | Edit mode | <kbd>Esc</kbd>\n",
    "==CELLS== | | \n",
    "Change **cell type** | Command mode | to Markdown: <kbd>m</kbd> <br/>to Code: <kbd>y</kbd>\n",
    "**Delete** currently selected cell | Command mode | <kbd>d</kbd><kbd>d</kbd>\n",
    "Insert **new cell** | Command mode | above: <kbd>A</kbd> <br/> below: <kbd>B</kbd>\n",
    "**Merge** selected cells | Command mode | <kbd>Shift</kbd>+<kbd>M</kbd>\n",
    "**Select multiple** cells | Command mode | upwards: <kbd>Shift</kbd>+<kbd>Up</kbd><br/>downwards: <kbd>Shift</kbd>+<kbd>Down</kbd>\n",
    "**Split cell** at cursor | Edit mode | <kbd>Ctrl</kbd>+<kbd>Shift</kbd>+<kbd>-</kbd>\n",
    "==CELL CONTENT== | |\n",
    "Multi-line editing | Edit mode | `click` + <kbd>Alt</kbd> + `drag`\n",
    "==DOCUMENTATION== | |\n",
    "Show **DocString** for typed object | Edit mode | <kbd>Shift</kbd>+<kbd>Tab</kbd>\n",
    "==RUN CELLS == | |\n",
    "Run selected cell and advance to the next cell | | <kbd>Shift</kbd>+<kbd>Enter</kbd>\n",
    "Run selected cell and don't advance | | <kbd>Ctrl</kbd>+<kbd>Enter</kbd>\n",
    "Run selected cell and insert a new cell after | | <kbd>Alt</kbd>+<kbd>Enter</kbd>"
   ]
  },
  {
   "cell_type": "markdown",
   "id": "125ea17c-1a92-4a2f-b0d8-ef23ef3ad758",
   "metadata": {},
   "source": [
    "## Experiences"
   ]
  },
  {
   "cell_type": "code",
   "execution_count": null,
   "id": "0734c3de-fe1c-40d0-97fc-11ad0cc0520a",
   "metadata": {},
   "outputs": [],
   "source": [
    "str.replace()"
   ]
  }
 ],
 "metadata": {
  "kernelspec": {
   "display_name": "Python 3 (ipykernel)",
   "language": "python",
   "name": "python3"
  },
  "language_info": {
   "codemirror_mode": {
    "name": "ipython",
    "version": 3
   },
   "file_extension": ".py",
   "mimetype": "text/x-python",
   "name": "python",
   "nbconvert_exporter": "python",
   "pygments_lexer": "ipython3",
   "version": "3.7.3"
  }
 },
 "nbformat": 4,
 "nbformat_minor": 5
}
