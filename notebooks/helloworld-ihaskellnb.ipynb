{
 "cells": [
  {
   "cell_type": "markdown",
   "id": "0d8f6333-7aae-4bf6-82c4-c9649b9f1402",
   "metadata": {},
   "source": [
    "# My first Jupyter Notebook with IHaskell kernel\n",
    "\n",
    "This is a typical \"Hello World\" program for first experimenting with a Jupyter notebook powered by an IHaskell kernel."
   ]
  },
  {
   "cell_type": "code",
   "execution_count": 1,
   "id": "add67378-985e-42f5-87e3-324e30cdd46f",
   "metadata": {},
   "outputs": [
    {
     "data": {
      "text/plain": [
       "\"Hello Haskell Jupyter Notebook!\""
      ]
     },
     "metadata": {},
     "output_type": "display_data"
    }
   ],
   "source": [
    "print \"Hello Haskell Jupyter Notebook!\""
   ]
  }
 ],
 "metadata": {
  "kernelspec": {
   "display_name": "Haskell",
   "language": "haskell",
   "name": "haskell"
  },
  "language_info": {
   "codemirror_mode": "ihaskell",
   "file_extension": ".hs",
   "mimetype": "text/x-haskell",
   "name": "haskell",
   "pygments_lexer": "Haskell",
   "version": "8.10.7"
  }
 },
 "nbformat": 4,
 "nbformat_minor": 5
}
